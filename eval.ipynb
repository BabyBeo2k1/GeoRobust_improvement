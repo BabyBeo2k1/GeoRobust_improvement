{
 "cells": [
  {
   "cell_type": "code",
   "execution_count": 68,
   "metadata": {},
   "outputs": [
    {
     "name": "stdout",
     "output_type": "stream",
     "text": [
      "8\n",
      "20\n",
      "2033.0\n"
     ]
    }
   ],
   "source": [
    "import os\n",
    "baseline_path=\"imagenet_results/GeoRobust/resnet50_sample_baseline.txt\"\n",
    "my_path=\"imagenet_results/GeoRobust_improve/resnet50_0.1_max_lipchitz_grad_sft_ag_sc_100sample.txt\"\n",
    "baseline_results=[]\n",
    "with open(baseline_path,\"r\") as f:\n",
    "    for line in f:\n",
    "        baseline_results.append(line.strip().split(',')[:-1])\n",
    "experiment_result=[]\n",
    "with open(my_path,\"r\") as f:\n",
    "    for line in f:\n",
    "        experiment_result.append(line.strip().split(',')[:-1])\n",
    "print(len(experiment_result))\n",
    "print(len(baseline_results[0]))\n",
    "print(float(baseline_results[4][0]))"
   ]
  },
  {
   "cell_type": "code",
   "execution_count": 69,
   "metadata": {},
   "outputs": [
    {
     "name": "stdout",
     "output_type": "stream",
     "text": [
      "number of worsen cases: 4\n",
      "number of unchange cases:  0\n",
      "number of improved cases:  4\n",
      "number of unverified case to verified case (from min>0 in baseline to min <0 in experiment): 0\n",
      "number of verified case to unverified case (from min>0 in baseline to min <0 in experiment): 0\n",
      "average decrease percentage of worsen cases change: 0.8281758421144243\n",
      "average decrease percentage of worsen cases change: 1.0978853453792377\n",
      "overall pecentage change over base line:  0.1348547516324067\n"
     ]
    }
   ],
   "source": [
    "i=0\n",
    "j=0\n",
    "improve=0\n",
    "equal=0\n",
    "worse=0\n",
    "worse_cases=[]\n",
    "improve_cases=[]\n",
    "same_idxs_eg=[]\n",
    "same_idxs_base=[]\n",
    "increase=0\n",
    "decrease=0\n",
    "improve_change=0\n",
    "worse_change=0\n",
    "overall=0\n",
    "while i< len(experiment_result) and j<len(baseline_results):\n",
    "    eg=experiment_result[i]\n",
    "    base=baseline_results[j]\n",
    "    if eg[0]==base[0]:\n",
    "        same_idxs_eg.append(i)\n",
    "        same_idxs_base.append(j)\n",
    "        res_eg=float(eg[-1])\n",
    "        res_base=float(base[-1])\n",
    "        overall+=(-res_eg+res_base)/abs(res_base)\n",
    "        if res_eg>res_base:\n",
    "            worse_cases.append(eg[0])\n",
    "            if res_eg>0 and res_base<0:\n",
    "                \n",
    "                worse_change+=1\n",
    "            worse+=1\n",
    "            increase+=(res_eg-res_base)/abs(res_base)\n",
    "        elif res_eg<res_base:\n",
    "            improve_cases.append(eg[0])\n",
    "            if res_eg<0 and res_base>0:\n",
    "                improve_change+=1\n",
    "            improve+=1\n",
    "            decrease+=(-res_eg+res_base)/abs(res_base)\n",
    "        elif res_eg==res_base:\n",
    "            equal+=1\n",
    "        i+=1\n",
    "        j+=1\n",
    "    elif eg[0]<base[0]:\n",
    "        i+=1\n",
    "    elif eg[0]>base[0]:\n",
    "        j+=1\n",
    "print(\"number of worsen cases:\",len(worse_cases))\n",
    "print(\"number of unchange cases: \",equal)\n",
    "print(\"number of improved cases: \",len(improve_cases))\n",
    "print(\"number of unverified case to verified case (from min>0 in baseline to min <0 in experiment):\",improve_change)\n",
    "print(\"number of verified case to unverified case (from min>0 in baseline to min <0 in experiment):\",worse_change)\n",
    "try:\n",
    "    print(\"average decrease percentage of worsen cases change:\",increase/worse*100)\n",
    "except:\n",
    "    print(\"0 cases\")\n",
    "try:\n",
    "    print(\"average decrease percentage of worsen cases change:\",decrease/improve*100)\n",
    "except:\n",
    "    print(\"0 cases\")\n",
    "\n",
    "print(\"overall pecentage change over base line: \",overall/len(same_idxs_base)*100)\n",
    "#print(zip(same_idxs_eg,same_idxs_base))"
   ]
  },
  {
   "cell_type": "code",
   "execution_count": 96,
   "metadata": {},
   "outputs": [
    {
     "name": "stdout",
     "output_type": "stream",
     "text": [
      "20\n",
      "98\n"
     ]
    }
   ],
   "source": [
    "import numpy as np\n",
    "a=np.array(experiment_result)\n",
    "b=np.array(baseline_results)\n",
    "convert_improve=[float(x)for x in improve_cases]\n",
    "convert_worse=[float(x)for x in worse_cases]\n",
    "convert_experiment=[[float(x) for x in y]for y in a[same_idxs_eg]]\n",
    "convert_baseline=[[float(x) for x in y]for y in b[same_idxs_base]]\n",
    "print(len(convert_baseline[0]))\n",
    "print(len(convert_experiment))\n"
   ]
  },
  {
   "cell_type": "code",
   "execution_count": 98,
   "metadata": {},
   "outputs": [
    {
     "name": "stdout",
     "output_type": "stream",
     "text": [
      "average converge index of baseline on improved case: 98.54901960784314\n",
      "average converge index of modified algo on improved case:  118.31372549019608\n"
     ]
    }
   ],
   "source": [
    "converge_baseline=0\n",
    "converge_experiment=0\n",
    "for case in convert_experiment:\n",
    "    if case[0] in convert_improve:\n",
    "        for idx,eg in enumerate(case[1:]):\n",
    "            if eg==case[-1]:\n",
    "                \n",
    "                if idx>6:\n",
    "                    converge_experiment+=idx*10\n",
    "                else:\n",
    "                    converge_experiment+=idx*2\n",
    "                break\n",
    "for case in convert_baseline:\n",
    "    if case[0] in convert_improve:\n",
    "        for idx,eg in enumerate(case[1:]):\n",
    "            if eg==case[-1]:\n",
    "                if idx>6:\n",
    "                    converge_baseline+=idx*10\n",
    "                else:\n",
    "                    converge_baseline+=idx*2\n",
    "                break\n",
    "print(\"average converge index of baseline on improved case:\", converge_baseline/len(convert_improve))\n",
    "print(\"average converge index of modified algo on improved case: \",converge_experiment/len(convert_improve))"
   ]
  },
  {
   "cell_type": "code",
   "execution_count": 99,
   "metadata": {},
   "outputs": [
    {
     "name": "stdout",
     "output_type": "stream",
     "text": [
      "average converge index of baseline on worsen case: 113.31914893617021\n",
      "average converge index of modified algo on worsen case:  92.76595744680851\n"
     ]
    }
   ],
   "source": [
    "converge_baseline=0\n",
    "converge_experiment=0\n",
    "for case in convert_experiment:\n",
    "    if case[0] in convert_worse:\n",
    "        for idx,eg in enumerate(case[1:]):\n",
    "            if eg==case[-1]:\n",
    "                \n",
    "                if idx>6:\n",
    "                    converge_experiment+=idx*10\n",
    "                else:\n",
    "                    converge_experiment+=idx*2\n",
    "                break\n",
    "for case in convert_baseline:\n",
    "    if case[0] in convert_worse:\n",
    "        for idx,eg in enumerate(case[1:]):\n",
    "            if eg==case[-1]:\n",
    "                if idx>6:\n",
    "                    converge_baseline+=idx*10\n",
    "                else:\n",
    "                    converge_baseline+=idx*2\n",
    "                break\n",
    "print(\"average converge index of baseline on worsen case:\", converge_baseline/len(convert_worse))\n",
    "print(\"average converge index of modified algo on worsen case: \",converge_experiment/len(convert_worse))"
   ]
  },
  {
   "cell_type": "code",
   "execution_count": 17,
   "metadata": {},
   "outputs": [
    {
     "name": "stdout",
     "output_type": "stream",
     "text": [
      "[1 2]\n",
      "<class 'numpy.ndarray'>\n"
     ]
    }
   ],
   "source": [
    "import numpy as np\n",
    "a=np.array([1,2,3,4,5])\n",
    "idxs=np.where(a%2==1)[0]\n",
    "k=np.where(a[:5][idxs]>2)[0]\n",
    "print(k)\n",
    "print(type(a[:5][idxs]))\n"
   ]
  }
 ],
 "metadata": {
  "kernelspec": {
   "display_name": "gmu",
   "language": "python",
   "name": "python3"
  },
  "language_info": {
   "codemirror_mode": {
    "name": "ipython",
    "version": 3
   },
   "file_extension": ".py",
   "mimetype": "text/x-python",
   "name": "python",
   "nbconvert_exporter": "python",
   "pygments_lexer": "ipython3",
   "version": "3.11.3"
  },
  "orig_nbformat": 4
 },
 "nbformat": 4,
 "nbformat_minor": 2
}
